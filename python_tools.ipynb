{
  "nbformat": 4,
  "nbformat_minor": 0,
  "metadata": {
    "colab": {
      "provenance": [],
      "authorship_tag": "ABX9TyODN0zO/MY4F5nLGGYLKOfr",
      "include_colab_link": true
    },
    "kernelspec": {
      "name": "python3",
      "display_name": "Python 3"
    },
    "language_info": {
      "name": "python"
    }
  },
  "cells": [
    {
      "cell_type": "markdown",
      "metadata": {
        "id": "view-in-github",
        "colab_type": "text"
      },
      "source": [
        "<a href=\"https://colab.research.google.com/github/yuhange/python_tools/blob/main/python_tools.ipynb\" target=\"_parent\"><img src=\"https://colab.research.google.com/assets/colab-badge.svg\" alt=\"Open In Colab\"/></a>"
      ]
    },
    {
      "cell_type": "code",
      "execution_count": null,
      "metadata": {
        "id": "nGe-_eggk-O3"
      },
      "outputs": [],
      "source": [
        "from PyPDF2 import PdfMerger\n",
        "import os\n",
        "\n",
        "def merge_pdfs(input_dir, output_file):\n",
        "    # 创建 PdfMerger 对象\n",
        "    merger = PdfMerger()\n",
        "\n",
        "    # 获取目录下所有PDF文件\n",
        "    pdf_files = [f for f in os.listdir(input_dir) if f.endswith('.pdf')]\n",
        "\n",
        "    try:\n",
        "        # 按文件名排序\n",
        "        pdf_files.sort()\n",
        "\n",
        "        # 依次添加每个PDF文件\n",
        "        for pdf in pdf_files:\n",
        "            file_path = os.path.join(input_dir, pdf)\n",
        "            merger.append(file_path)\n",
        "            print(f\"已添加: {pdf}\")\n",
        "\n",
        "        # 保存合并后的文件\n",
        "        merger.write(output_file)\n",
        "        print(f\"\\n成功合并PDF文件到: {output_file}\")\n",
        "\n",
        "    except Exception as e:\n",
        "        print(f\"合并过程中出现错误: {str(e)}\")\n",
        "\n",
        "    finally:\n",
        "        # 关闭merger\n",
        "        merger.close()\n",
        "\n",
        "# 使用示例\n",
        "input_directory = \"/Users/wnhui/Downloads/lc_pdfs\"  # PDF文件所在目录\n",
        "output_pdf = \"merged_output.pdf\"       # 输出文件名\n",
        "merge_pdfs(input_directory, output_pdf)\n"
      ]
    }
  ]
}